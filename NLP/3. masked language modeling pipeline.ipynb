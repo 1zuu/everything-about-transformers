{
 "cells": [
  {
   "attachments": {},
   "cell_type": "markdown",
   "metadata": {},
   "source": [
    "# Import Dependencies"
   ]
  },
  {
   "cell_type": "code",
   "execution_count": 8,
   "metadata": {},
   "outputs": [],
   "source": [
    "import torch\n",
    "import textwrap\n",
    "import numpy as np \n",
    "import pandas as pd \n",
    "from pprint import pprint\n",
    "from transformers import pipeline"
   ]
  },
  {
   "attachments": {},
   "cell_type": "markdown",
   "metadata": {},
   "source": [
    "# Load/Download Sentiment Analysis Pipeline"
   ]
  },
  {
   "cell_type": "code",
   "execution_count": 12,
   "metadata": {},
   "outputs": [
    {
     "name": "stderr",
     "output_type": "stream",
     "text": [
      "No model was supplied, defaulted to distilroberta-base and revision ec58a5b (https://huggingface.co/distilroberta-base).\n",
      "Using a pipeline without specifying a model name and revision in production is not recommended.\n"
     ]
    },
    {
     "data": {
      "text/plain": [
       "transformers.pipelines.fill_mask.FillMaskPipeline"
      ]
     },
     "execution_count": 12,
     "metadata": {},
     "output_type": "execute_result"
    }
   ],
   "source": [
    "filler = pipeline(\"fill-mask\", device=\"cuda:0\")\n",
    "type(filler)"
   ]
  },
  {
   "attachments": {},
   "cell_type": "markdown",
   "metadata": {},
   "source": [
    "# Perform Some Test Cases"
   ]
  },
  {
   "cell_type": "code",
   "execution_count": 13,
   "metadata": {},
   "outputs": [
    {
     "data": {
      "text/plain": [
       "[[{'score': 0.20124192535877228,\n",
       "   'token': 8144,\n",
       "   'token_str': ' wrapped',\n",
       "   'sequence': 'Two roads wrapped in a yellow wood,'},\n",
       "  {'score': 0.11673210561275482,\n",
       "   'token': 2913,\n",
       "   'token_str': ' covered',\n",
       "   'sequence': 'Two roads covered in a yellow wood,'},\n",
       "  {'score': 0.03971727192401886,\n",
       "   'token': 10122,\n",
       "   'token_str': ' painted',\n",
       "   'sequence': 'Two roads painted in a yellow wood,'},\n",
       "  {'score': 0.029909003525972366,\n",
       "   'token': 3558,\n",
       "   'token_str': ' ending',\n",
       "   'sequence': 'Two roads ending in a yellow wood,'},\n",
       "  {'score': 0.021850239485502243,\n",
       "   'token': 30307,\n",
       "   'token_str': ' draped',\n",
       "   'sequence': 'Two roads draped in a yellow wood,'}],\n",
       " [{'score': 0.08102558553218842,\n",
       "   'token': 109,\n",
       "   'token_str': ' do',\n",
       "   'sequence': 'And sorry I could not do both'},\n",
       "  {'score': 0.07285445928573608,\n",
       "   'token': 3679,\n",
       "   'token_str': ' handle',\n",
       "   'sequence': 'And sorry I could not handle both'},\n",
       "  {'score': 0.06665847450494766,\n",
       "   'token': 4960,\n",
       "   'token_str': ' afford',\n",
       "   'sequence': 'And sorry I could not afford both'},\n",
       "  {'score': 0.04688528925180435,\n",
       "   'token': 120,\n",
       "   'token_str': ' get',\n",
       "   'sequence': 'And sorry I could not get both'},\n",
       "  {'score': 0.04373287409543991,\n",
       "   'token': 2073,\n",
       "   'token_str': ' finish',\n",
       "   'sequence': 'And sorry I could not finish both'}],\n",
       " [{'score': 0.08316145092248917,\n",
       "   'token': 1034,\n",
       "   'token_str': ' hope',\n",
       "   'sequence': 'And be one traveler, long I hope'},\n",
       "  {'score': 0.055578287690877914,\n",
       "   'token': 10745,\n",
       "   'token_str': ' pray',\n",
       "   'sequence': 'And be one traveler, long I pray'},\n",
       "  {'score': 0.041967980563640594,\n",
       "   'token': 4198,\n",
       "   'token_str': ' promise',\n",
       "   'sequence': 'And be one traveler, long I promise'},\n",
       "  {'score': 0.025582462549209595,\n",
       "   'token': 657,\n",
       "   'token_str': ' love',\n",
       "   'sequence': 'And be one traveler, long I love'},\n",
       "  {'score': 0.025500837713479996,\n",
       "   'token': 5658,\n",
       "   'token_str': ' shall',\n",
       "   'sequence': 'And be one traveler, long I shall'}],\n",
       " [{'score': 0.05849023535847664,\n",
       "   'token': 7956,\n",
       "   'token_str': ' knock',\n",
       "   'sequence': 'And knock down one as far as I could'},\n",
       "  {'score': 0.054337065666913986,\n",
       "   'token': 7859,\n",
       "   'token_str': ' chase',\n",
       "   'sequence': 'And chase down one as far as I could'},\n",
       "  {'score': 0.036907732486724854,\n",
       "   'token': 4511,\n",
       "   'token_str': ' shoot',\n",
       "   'sequence': 'And shoot down one as far as I could'},\n",
       "  {'score': 0.02952001802623272,\n",
       "   'token': 13682,\n",
       "   'token_str': ' knocking',\n",
       "   'sequence': 'And knocking down one as far as I could'},\n",
       "  {'score': 0.028430741280317307,\n",
       "   'token': 185,\n",
       "   'token_str': ' take',\n",
       "   'sequence': 'And take down one as far as I could'}],\n",
       " [{'score': 0.046670928597450256,\n",
       "   'token': 2508,\n",
       "   'token_str': ' wind',\n",
       "   'sequence': 'To where it bent in the wind; '},\n",
       "  {'score': 0.02787422575056553,\n",
       "   'token': 3778,\n",
       "   'token_str': ' sun',\n",
       "   'sequence': 'To where it bent in the sun; '},\n",
       "  {'score': 0.02714899554848671,\n",
       "   'token': 10511,\n",
       "   'token_str': ' mud',\n",
       "   'sequence': 'To where it bent in the mud; '},\n",
       "  {'score': 0.026244089007377625,\n",
       "   'token': 1958,\n",
       "   'token_str': ' snow',\n",
       "   'sequence': 'To where it bent in the snow; '},\n",
       "  {'score': 0.024010049179196358,\n",
       "   'token': 24572,\n",
       "   'token_str': ' breeze',\n",
       "   'sequence': 'To where it bent in the breeze; '}]]"
      ]
     },
     "execution_count": 13,
     "metadata": {},
     "output_type": "execute_result"
    }
   ],
   "source": [
    "'''\n",
    "\"Two roads diverged in a yellow wood,\",\n",
    "\"And sorry I could not travel both\",\n",
    "\"And be one traveler, long I stood\",\n",
    "\"And looked down one as far as I could\",\n",
    "\"To where it bent in the undergrowth; \"\n",
    "\n",
    "'''\n",
    "\n",
    "sample_texts = [\n",
    "        \"Two roads <mask> in a yellow wood,\",\n",
    "        \"And sorry I could not <mask> both\",\n",
    "        \"And be one traveler, long I <mask>\",\n",
    "        \"And <mask> down one as far as I could\",\n",
    "        \"To where it bent in the <mask>; \"\n",
    "        ]\n",
    "\n",
    "filled_masks = filler(sample_texts)\n",
    "filled_masks"
   ]
  },
  {
   "attachments": {},
   "cell_type": "markdown",
   "metadata": {},
   "source": [
    "# LOAD DATA"
   ]
  },
  {
   "cell_type": "code",
   "execution_count": 14,
   "metadata": {},
   "outputs": [
    {
     "data": {
      "text/html": [
       "<div>\n",
       "<style scoped>\n",
       "    .dataframe tbody tr th:only-of-type {\n",
       "        vertical-align: middle;\n",
       "    }\n",
       "\n",
       "    .dataframe tbody tr th {\n",
       "        vertical-align: top;\n",
       "    }\n",
       "\n",
       "    .dataframe thead th {\n",
       "        text-align: right;\n",
       "    }\n",
       "</style>\n",
       "<table border=\"1\" class=\"dataframe\">\n",
       "  <thead>\n",
       "    <tr style=\"text-align: right;\">\n",
       "      <th></th>\n",
       "      <th>text</th>\n",
       "      <th>labels</th>\n",
       "    </tr>\n",
       "  </thead>\n",
       "  <tbody>\n",
       "    <tr>\n",
       "      <th>0</th>\n",
       "      <td>Ad sales boost Time Warner profit\\n\\nQuarterly...</td>\n",
       "      <td>business</td>\n",
       "    </tr>\n",
       "    <tr>\n",
       "      <th>1</th>\n",
       "      <td>Dollar gains on Greenspan speech\\n\\nThe dollar...</td>\n",
       "      <td>business</td>\n",
       "    </tr>\n",
       "    <tr>\n",
       "      <th>2</th>\n",
       "      <td>Yukos unit buyer faces loan claim\\n\\nThe owner...</td>\n",
       "      <td>business</td>\n",
       "    </tr>\n",
       "    <tr>\n",
       "      <th>3</th>\n",
       "      <td>High fuel prices hit BA's profits\\n\\nBritish A...</td>\n",
       "      <td>business</td>\n",
       "    </tr>\n",
       "    <tr>\n",
       "      <th>4</th>\n",
       "      <td>Pernod takeover talk lifts Domecq\\n\\nShares in...</td>\n",
       "      <td>business</td>\n",
       "    </tr>\n",
       "    <tr>\n",
       "      <th>...</th>\n",
       "      <td>...</td>\n",
       "      <td>...</td>\n",
       "    </tr>\n",
       "    <tr>\n",
       "      <th>2220</th>\n",
       "      <td>BT program to beat dialler scams\\n\\nBT is intr...</td>\n",
       "      <td>tech</td>\n",
       "    </tr>\n",
       "    <tr>\n",
       "      <th>2221</th>\n",
       "      <td>Spam e-mails tempt net shoppers\\n\\nComputer us...</td>\n",
       "      <td>tech</td>\n",
       "    </tr>\n",
       "    <tr>\n",
       "      <th>2222</th>\n",
       "      <td>Be careful how you code\\n\\nA new European dire...</td>\n",
       "      <td>tech</td>\n",
       "    </tr>\n",
       "    <tr>\n",
       "      <th>2223</th>\n",
       "      <td>US cyber security chief resigns\\n\\nThe man mak...</td>\n",
       "      <td>tech</td>\n",
       "    </tr>\n",
       "    <tr>\n",
       "      <th>2224</th>\n",
       "      <td>Losing yourself in online gaming\\n\\nOnline rol...</td>\n",
       "      <td>tech</td>\n",
       "    </tr>\n",
       "  </tbody>\n",
       "</table>\n",
       "<p>2225 rows × 2 columns</p>\n",
       "</div>"
      ],
      "text/plain": [
       "                                                   text    labels\n",
       "0     Ad sales boost Time Warner profit\\n\\nQuarterly...  business\n",
       "1     Dollar gains on Greenspan speech\\n\\nThe dollar...  business\n",
       "2     Yukos unit buyer faces loan claim\\n\\nThe owner...  business\n",
       "3     High fuel prices hit BA's profits\\n\\nBritish A...  business\n",
       "4     Pernod takeover talk lifts Domecq\\n\\nShares in...  business\n",
       "...                                                 ...       ...\n",
       "2220  BT program to beat dialler scams\\n\\nBT is intr...      tech\n",
       "2221  Spam e-mails tempt net shoppers\\n\\nComputer us...      tech\n",
       "2222  Be careful how you code\\n\\nA new European dire...      tech\n",
       "2223  US cyber security chief resigns\\n\\nThe man mak...      tech\n",
       "2224  Losing yourself in online gaming\\n\\nOnline rol...      tech\n",
       "\n",
       "[2225 rows x 2 columns]"
      ]
     },
     "execution_count": 14,
     "metadata": {},
     "output_type": "execute_result"
    }
   ],
   "source": [
    "df = pd.read_csv('data/bbc_text_cls.csv')\n",
    "df"
   ]
  },
  {
   "cell_type": "code",
   "execution_count": 17,
   "metadata": {},
   "outputs": [],
   "source": [
    "def wrap(x):\n",
    "    return textwrap.fill(\n",
    "                        x, \n",
    "                        replace_whitespace=False, \n",
    "                        fix_sentence_endings=True\n",
    "                        )"
   ]
  },
  {
   "cell_type": "code",
   "execution_count": 18,
   "metadata": {},
   "outputs": [
    {
     "data": {
      "text/html": [
       "<div>\n",
       "<style scoped>\n",
       "    .dataframe tbody tr th:only-of-type {\n",
       "        vertical-align: middle;\n",
       "    }\n",
       "\n",
       "    .dataframe tbody tr th {\n",
       "        vertical-align: top;\n",
       "    }\n",
       "\n",
       "    .dataframe thead th {\n",
       "        text-align: right;\n",
       "    }\n",
       "</style>\n",
       "<table border=\"1\" class=\"dataframe\">\n",
       "  <thead>\n",
       "    <tr style=\"text-align: right;\">\n",
       "      <th></th>\n",
       "      <th>text</th>\n",
       "      <th>labels</th>\n",
       "    </tr>\n",
       "  </thead>\n",
       "  <tbody>\n",
       "    <tr>\n",
       "      <th>0</th>\n",
       "      <td>Ad sales boost Time Warner profit\\n\\nQuarterly...</td>\n",
       "      <td>business</td>\n",
       "    </tr>\n",
       "    <tr>\n",
       "      <th>1</th>\n",
       "      <td>Dollar gains on Greenspan speech\\n\\nThe dollar...</td>\n",
       "      <td>business</td>\n",
       "    </tr>\n",
       "    <tr>\n",
       "      <th>2</th>\n",
       "      <td>Yukos unit buyer faces loan claim\\n\\nThe owner...</td>\n",
       "      <td>business</td>\n",
       "    </tr>\n",
       "    <tr>\n",
       "      <th>3</th>\n",
       "      <td>High fuel prices hit BA's profits\\n\\nBritish A...</td>\n",
       "      <td>business</td>\n",
       "    </tr>\n",
       "    <tr>\n",
       "      <th>4</th>\n",
       "      <td>Pernod takeover talk lifts Domecq\\n\\nShares in...</td>\n",
       "      <td>business</td>\n",
       "    </tr>\n",
       "    <tr>\n",
       "      <th>...</th>\n",
       "      <td>...</td>\n",
       "      <td>...</td>\n",
       "    </tr>\n",
       "    <tr>\n",
       "      <th>505</th>\n",
       "      <td>Trial begins of Spain's top banker\\n\\nThe tria...</td>\n",
       "      <td>business</td>\n",
       "    </tr>\n",
       "    <tr>\n",
       "      <th>506</th>\n",
       "      <td>UK economy ends year with spurt\\n\\nThe UK econ...</td>\n",
       "      <td>business</td>\n",
       "    </tr>\n",
       "    <tr>\n",
       "      <th>507</th>\n",
       "      <td>HealthSouth ex-boss goes on trial\\n\\nThe forme...</td>\n",
       "      <td>business</td>\n",
       "    </tr>\n",
       "    <tr>\n",
       "      <th>508</th>\n",
       "      <td>Euro firms miss out on optimism\\n\\nMore than 9...</td>\n",
       "      <td>business</td>\n",
       "    </tr>\n",
       "    <tr>\n",
       "      <th>509</th>\n",
       "      <td>Lacroix label bought by US firm\\n\\nLuxury good...</td>\n",
       "      <td>business</td>\n",
       "    </tr>\n",
       "  </tbody>\n",
       "</table>\n",
       "<p>510 rows × 2 columns</p>\n",
       "</div>"
      ],
      "text/plain": [
       "                                                  text    labels\n",
       "0    Ad sales boost Time Warner profit\\n\\nQuarterly...  business\n",
       "1    Dollar gains on Greenspan speech\\n\\nThe dollar...  business\n",
       "2    Yukos unit buyer faces loan claim\\n\\nThe owner...  business\n",
       "3    High fuel prices hit BA's profits\\n\\nBritish A...  business\n",
       "4    Pernod takeover talk lifts Domecq\\n\\nShares in...  business\n",
       "..                                                 ...       ...\n",
       "505  Trial begins of Spain's top banker\\n\\nThe tria...  business\n",
       "506  UK economy ends year with spurt\\n\\nThe UK econ...  business\n",
       "507  HealthSouth ex-boss goes on trial\\n\\nThe forme...  business\n",
       "508  Euro firms miss out on optimism\\n\\nMore than 9...  business\n",
       "509  Lacroix label bought by US firm\\n\\nLuxury good...  business\n",
       "\n",
       "[510 rows x 2 columns]"
      ]
     },
     "execution_count": 18,
     "metadata": {},
     "output_type": "execute_result"
    }
   ],
   "source": [
    "df = df[df.labels == 'business']\n",
    "df"
   ]
  },
  {
   "cell_type": "code",
   "execution_count": 20,
   "metadata": {},
   "outputs": [
    {
     "name": "stdout",
     "output_type": "stream",
     "text": [
      "Qantas sees profits fly to record\n",
      "\n",
      "Australian airline Qantas has\n",
      "posted a record fiscal first-half profit thanks to cost-cutting\n",
      "measures.\n",
      "\n",
      "Net profit in the six months ending 31 December rose 28% to\n",
      "A$458.4m ($357.6m; £191m) from a year earlier.  Analysts expected a\n",
      "figure closer to A$431m.  Qantas shares fell almost 3%, however, after\n",
      "it warned that earnings growth would slow in the second half.  Sales\n",
      "will dip by at least A$30m after the Indian ocean tsunami devastated\n",
      "many holiday destinations, Qantas said.\n",
      "\n",
      "\"The tsunami affected travel\n",
      "patterns in ways that we were a bit surprised about,\" chief executive\n",
      "Geoff Dixon explained.  \"It certainly affected Japanese travel into\n",
      "Australia.  As soon as the tsunami hit we saw ... a lessening with\n",
      "bookings for Australia.\"  Higher fuel costs also are expected to eat\n",
      "into earnings in coming months.  \"We don't have as much hedging\n",
      "benefit in the second half as we had in the first,\" said chief\n",
      "financial officer Peter Gregg.  Qantas is facing increased pressure\n",
      "from rivals such as low-cost carrier Virgin Blue and the Australian\n",
      "government is in talks about whether to allow Singapore Airlines to\n",
      "fly between the Australia and the US - one of Qantas' key routes.\n",
      "Even so, the firm is predicting that full-year earnings will increase\n",
      "from the previous 12 months.  Analysts have forecast full-year profit\n",
      "will rise about 11% to around A$720 million ($563 million). Qantas\n",
      "boss Mr Dixon also said he would be reviewing the group's cost-cutting\n",
      "measures.  During the first six months of the fiscal year, Qantas made\n",
      "savings of A$245m, and is on track to top its target of A$500m for the\n",
      "full year.  Last month, the company warned it may transfer as many as\n",
      "7,000 jobs out Australia, with Mr Dixon quoted as saying that the\n",
      "carrier could no longer afford to remain \"all-Australian\".\n"
     ]
    }
   ],
   "source": [
    "# randomly pick a text \n",
    "article = df.text.iloc[np.random.choice(len(df))]\n",
    "print(wrap(article))"
   ]
  },
  {
   "attachments": {},
   "cell_type": "markdown",
   "metadata": {},
   "source": [
    "# Predictions on Poem"
   ]
  },
  {
   "cell_type": "code",
   "execution_count": 21,
   "metadata": {},
   "outputs": [
    {
     "data": {
      "text/plain": [
       "[{'score': 0.3668358325958252,\n",
       "  'token': 4276,\n",
       "  'token_str': ' zero',\n",
       "  'sequence': 'Qantas sees profits fly to zero'},\n",
       " {'score': 0.09420368820428848,\n",
       "  'token': 2576,\n",
       "  'token_str': ' bottom',\n",
       "  'sequence': 'Qantas sees profits fly to bottom'},\n",
       " {'score': 0.02868789993226528,\n",
       "  'token': 40186,\n",
       "  'token_str': ' infinity',\n",
       "  'sequence': 'Qantas sees profits fly to infinity'},\n",
       " {'score': 0.02523326873779297,\n",
       "  'token': 19728,\n",
       "  'token_str': ' heel',\n",
       "  'sequence': 'Qantas sees profits fly to heel'},\n",
       " {'score': 0.014089357107877731,\n",
       "  'token': 8680,\n",
       "  'token_str': ' profitability',\n",
       "  'sequence': 'Qantas sees profits fly to profitability'}]"
      ]
     },
     "execution_count": 21,
     "metadata": {},
     "output_type": "execute_result"
    }
   ],
   "source": [
    "filler('Qantas sees profits fly to <mask>')"
   ]
  },
  {
   "cell_type": "code",
   "execution_count": 22,
   "metadata": {},
   "outputs": [
    {
     "data": {
      "text/plain": [
       "[{'score': 0.11308567970991135,\n",
       "  'token': 5364,\n",
       "  'token_str': ' operator',\n",
       "  'sequence': 'Qantas sees profits fly to zeroAustralian airline operator has posted a record fiscal first-half profit thanks to cost-cutting measures'},\n",
       " {'score': 0.05692284554243088,\n",
       "  'token': 8313,\n",
       "  'token_str': ' Emirates',\n",
       "  'sequence': 'Qantas sees profits fly to zeroAustralian airline Emirates has posted a record fiscal first-half profit thanks to cost-cutting measures'},\n",
       " {'score': 0.03350399062037468,\n",
       "  'token': 265,\n",
       "  'token_str': ' business',\n",
       "  'sequence': 'Qantas sees profits fly to zeroAustralian airline business has posted a record fiscal first-half profit thanks to cost-cutting measures'},\n",
       " {'score': 0.02909381315112114,\n",
       "  'token': 3619,\n",
       "  'token_str': ' Express',\n",
       "  'sequence': 'Qantas sees profits fly to zeroAustralian airline Express has posted a record fiscal first-half profit thanks to cost-cutting measures'},\n",
       " {'score': 0.028333093971014023,\n",
       "  'token': 6599,\n",
       "  'token_str': ' Delta',\n",
       "  'sequence': 'Qantas sees profits fly to zeroAustralian airline Delta has posted a record fiscal first-half profit thanks to cost-cutting measures'}]"
      ]
     },
     "execution_count": 22,
     "metadata": {},
     "output_type": "execute_result"
    }
   ],
   "source": [
    "text = 'Qantas sees profits fly to zero' + \\\n",
    "  'Australian airline <mask> has posted a record fiscal first-half profit thanks to cost-cutting measures'\n",
    "\n",
    "filler(text)"
   ]
  },
  {
   "cell_type": "code",
   "execution_count": 23,
   "metadata": {},
   "outputs": [
    {
     "data": {
      "text/plain": [
       "[{'score': 0.8682662844657898,\n",
       "  'token': 656,\n",
       "  'token_str': ' earlier',\n",
       "  'sequence': 'Qantas sees profits fly to zeroAustralian airline operator has posted a record fiscal first-half profit thanks to cost-cutting measuresNet profit in the six months ending 31 December rose 28% to A$458.4m ($357.6m; £191m) from a year earlier.'},\n",
       " {'score': 0.11375085264444351,\n",
       "  'token': 536,\n",
       "  'token_str': ' ago',\n",
       "  'sequence': 'Qantas sees profits fly to zeroAustralian airline operator has posted a record fiscal first-half profit thanks to cost-cutting measuresNet profit in the six months ending 31 December rose 28% to A$458.4m ($357.6m; £191m) from a year ago.'},\n",
       " {'score': 0.008088293485343456,\n",
       "  'token': 2052,\n",
       "  'token_str': ' prior',\n",
       "  'sequence': 'Qantas sees profits fly to zeroAustralian airline operator has posted a record fiscal first-half profit thanks to cost-cutting measuresNet profit in the six months ending 31 December rose 28% to A$458.4m ($357.6m; £191m) from a year prior.'},\n",
       " {'score': 0.003610126208513975,\n",
       "  'token': 137,\n",
       "  'token_str': ' before',\n",
       "  'sequence': 'Qantas sees profits fly to zeroAustralian airline operator has posted a record fiscal first-half profit thanks to cost-cutting measuresNet profit in the six months ending 31 December rose 28% to A$458.4m ($357.6m; £191m) from a year before.'},\n",
       " {'score': 0.003322025528177619,\n",
       "  'token': 986,\n",
       "  'token_str': ' previous',\n",
       "  'sequence': 'Qantas sees profits fly to zeroAustralian airline operator has posted a record fiscal first-half profit thanks to cost-cutting measuresNet profit in the six months ending 31 December rose 28% to A$458.4m ($357.6m; £191m) from a year previous.'}]"
      ]
     },
     "execution_count": 23,
     "metadata": {},
     "output_type": "execute_result"
    }
   ],
   "source": [
    "text = 'Qantas sees profits fly to zero' + \\\n",
    "  'Australian airline operator has posted a record fiscal first-half profit thanks to cost-cutting measures' + \\\n",
    "  'Net profit in the six months ending 31 December rose 28% to A$458.4m ($357.6m; £191m) from a year <mask>.'\n",
    "\n",
    "filler(text)"
   ]
  },
  {
   "cell_type": "code",
   "execution_count": null,
   "metadata": {},
   "outputs": [],
   "source": []
  }
 ],
 "metadata": {
  "kernelspec": {
   "display_name": "torch113",
   "language": "python",
   "name": "python3"
  },
  "language_info": {
   "codemirror_mode": {
    "name": "ipython",
    "version": 3
   },
   "file_extension": ".py",
   "mimetype": "text/x-python",
   "name": "python",
   "nbconvert_exporter": "python",
   "pygments_lexer": "ipython3",
   "version": "3.8.16"
  },
  "orig_nbformat": 4,
  "vscode": {
   "interpreter": {
    "hash": "248c823f8d9cd642b9ec759df0147d9a3d39e8078d0a1d981d1fa6f47d9b28f2"
   }
  }
 },
 "nbformat": 4,
 "nbformat_minor": 2
}
