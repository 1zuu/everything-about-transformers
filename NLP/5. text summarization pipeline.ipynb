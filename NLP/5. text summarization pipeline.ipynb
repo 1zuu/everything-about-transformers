{
 "cells": [
  {
   "cell_type": "code",
   "execution_count": 1,
   "metadata": {},
   "outputs": [
    {
     "name": "stderr",
     "output_type": "stream",
     "text": [
      "C:\\Users\\Legion\\AppData\\Roaming\\Python\\Python38\\site-packages\\tqdm\\auto.py:22: TqdmWarning: IProgress not found. Please update jupyter and ipywidgets. See https://ipywidgets.readthedocs.io/en/stable/user_install.html\n",
      "  from .autonotebook import tqdm as notebook_tqdm\n"
     ]
    }
   ],
   "source": [
    "import torch\n",
    "import pickle\n",
    "import textwrap\n",
    "import numpy as np \n",
    "import pandas as pd \n",
    "from pprint import pprint\n",
    "from transformers import pipeline"
   ]
  },
  {
   "attachments": {},
   "cell_type": "markdown",
   "metadata": {},
   "source": [
    "### Extractive vs Abstractive Summarization\n",
    "\n",
    "        Extractive  - Summarization is done by extracting the most important sentences from the original text.\n",
    "        Abstractive - Summarization is done by generating new sentences from the original text \n",
    "                      (the sentences may not present in the original text)."
   ]
  },
  {
   "cell_type": "code",
   "execution_count": 2,
   "metadata": {},
   "outputs": [
    {
     "name": "stderr",
     "output_type": "stream",
     "text": [
      "No model was supplied, defaulted to sshleifer/distilbart-cnn-12-6 and revision a4f8f3e (https://huggingface.co/sshleifer/distilbart-cnn-12-6).\n",
      "Using a pipeline without specifying a model name and revision in production is not recommended.\n"
     ]
    },
    {
     "data": {
      "text/plain": [
       "<transformers.pipelines.text2text_generation.SummarizationPipeline at 0x234adf9b490>"
      ]
     },
     "execution_count": 2,
     "metadata": {},
     "output_type": "execute_result"
    }
   ],
   "source": [
    "summarization = pipeline(\"summarization\", device='cuda:0')\n",
    "summarization"
   ]
  },
  {
   "cell_type": "code",
   "execution_count": 3,
   "metadata": {},
   "outputs": [
    {
     "data": {
      "text/html": [
       "<div>\n",
       "<style scoped>\n",
       "    .dataframe tbody tr th:only-of-type {\n",
       "        vertical-align: middle;\n",
       "    }\n",
       "\n",
       "    .dataframe tbody tr th {\n",
       "        vertical-align: top;\n",
       "    }\n",
       "\n",
       "    .dataframe thead th {\n",
       "        text-align: right;\n",
       "    }\n",
       "</style>\n",
       "<table border=\"1\" class=\"dataframe\">\n",
       "  <thead>\n",
       "    <tr style=\"text-align: right;\">\n",
       "      <th></th>\n",
       "      <th>text</th>\n",
       "      <th>labels</th>\n",
       "    </tr>\n",
       "  </thead>\n",
       "  <tbody>\n",
       "    <tr>\n",
       "      <th>0</th>\n",
       "      <td>Ad sales boost Time Warner profit\\n\\nQuarterly...</td>\n",
       "      <td>business</td>\n",
       "    </tr>\n",
       "    <tr>\n",
       "      <th>1</th>\n",
       "      <td>Dollar gains on Greenspan speech\\n\\nThe dollar...</td>\n",
       "      <td>business</td>\n",
       "    </tr>\n",
       "    <tr>\n",
       "      <th>2</th>\n",
       "      <td>Yukos unit buyer faces loan claim\\n\\nThe owner...</td>\n",
       "      <td>business</td>\n",
       "    </tr>\n",
       "    <tr>\n",
       "      <th>3</th>\n",
       "      <td>High fuel prices hit BA's profits\\n\\nBritish A...</td>\n",
       "      <td>business</td>\n",
       "    </tr>\n",
       "    <tr>\n",
       "      <th>4</th>\n",
       "      <td>Pernod takeover talk lifts Domecq\\n\\nShares in...</td>\n",
       "      <td>business</td>\n",
       "    </tr>\n",
       "    <tr>\n",
       "      <th>...</th>\n",
       "      <td>...</td>\n",
       "      <td>...</td>\n",
       "    </tr>\n",
       "    <tr>\n",
       "      <th>2220</th>\n",
       "      <td>BT program to beat dialler scams\\n\\nBT is intr...</td>\n",
       "      <td>tech</td>\n",
       "    </tr>\n",
       "    <tr>\n",
       "      <th>2221</th>\n",
       "      <td>Spam e-mails tempt net shoppers\\n\\nComputer us...</td>\n",
       "      <td>tech</td>\n",
       "    </tr>\n",
       "    <tr>\n",
       "      <th>2222</th>\n",
       "      <td>Be careful how you code\\n\\nA new European dire...</td>\n",
       "      <td>tech</td>\n",
       "    </tr>\n",
       "    <tr>\n",
       "      <th>2223</th>\n",
       "      <td>US cyber security chief resigns\\n\\nThe man mak...</td>\n",
       "      <td>tech</td>\n",
       "    </tr>\n",
       "    <tr>\n",
       "      <th>2224</th>\n",
       "      <td>Losing yourself in online gaming\\n\\nOnline rol...</td>\n",
       "      <td>tech</td>\n",
       "    </tr>\n",
       "  </tbody>\n",
       "</table>\n",
       "<p>2225 rows × 2 columns</p>\n",
       "</div>"
      ],
      "text/plain": [
       "                                                   text    labels\n",
       "0     Ad sales boost Time Warner profit\\n\\nQuarterly...  business\n",
       "1     Dollar gains on Greenspan speech\\n\\nThe dollar...  business\n",
       "2     Yukos unit buyer faces loan claim\\n\\nThe owner...  business\n",
       "3     High fuel prices hit BA's profits\\n\\nBritish A...  business\n",
       "4     Pernod takeover talk lifts Domecq\\n\\nShares in...  business\n",
       "...                                                 ...       ...\n",
       "2220  BT program to beat dialler scams\\n\\nBT is intr...      tech\n",
       "2221  Spam e-mails tempt net shoppers\\n\\nComputer us...      tech\n",
       "2222  Be careful how you code\\n\\nA new European dire...      tech\n",
       "2223  US cyber security chief resigns\\n\\nThe man mak...      tech\n",
       "2224  Losing yourself in online gaming\\n\\nOnline rol...      tech\n",
       "\n",
       "[2225 rows x 2 columns]"
      ]
     },
     "execution_count": 3,
     "metadata": {},
     "output_type": "execute_result"
    }
   ],
   "source": [
    "df = pd.read_csv('data/bbc_text_cls.csv')\n",
    "df"
   ]
  },
  {
   "cell_type": "code",
   "execution_count": 4,
   "metadata": {},
   "outputs": [
    {
     "data": {
      "text/html": [
       "<div>\n",
       "<style scoped>\n",
       "    .dataframe tbody tr th:only-of-type {\n",
       "        vertical-align: middle;\n",
       "    }\n",
       "\n",
       "    .dataframe tbody tr th {\n",
       "        vertical-align: top;\n",
       "    }\n",
       "\n",
       "    .dataframe thead th {\n",
       "        text-align: right;\n",
       "    }\n",
       "</style>\n",
       "<table border=\"1\" class=\"dataframe\">\n",
       "  <thead>\n",
       "    <tr style=\"text-align: right;\">\n",
       "      <th></th>\n",
       "      <th>text</th>\n",
       "      <th>labels</th>\n",
       "    </tr>\n",
       "  </thead>\n",
       "  <tbody>\n",
       "    <tr>\n",
       "      <th>0</th>\n",
       "      <td>Ad sales boost Time Warner profit\\n\\nQuarterly...</td>\n",
       "      <td>business</td>\n",
       "    </tr>\n",
       "    <tr>\n",
       "      <th>1</th>\n",
       "      <td>Dollar gains on Greenspan speech\\n\\nThe dollar...</td>\n",
       "      <td>business</td>\n",
       "    </tr>\n",
       "    <tr>\n",
       "      <th>2</th>\n",
       "      <td>Yukos unit buyer faces loan claim\\n\\nThe owner...</td>\n",
       "      <td>business</td>\n",
       "    </tr>\n",
       "    <tr>\n",
       "      <th>3</th>\n",
       "      <td>High fuel prices hit BA's profits\\n\\nBritish A...</td>\n",
       "      <td>business</td>\n",
       "    </tr>\n",
       "    <tr>\n",
       "      <th>4</th>\n",
       "      <td>Pernod takeover talk lifts Domecq\\n\\nShares in...</td>\n",
       "      <td>business</td>\n",
       "    </tr>\n",
       "    <tr>\n",
       "      <th>...</th>\n",
       "      <td>...</td>\n",
       "      <td>...</td>\n",
       "    </tr>\n",
       "    <tr>\n",
       "      <th>505</th>\n",
       "      <td>Trial begins of Spain's top banker\\n\\nThe tria...</td>\n",
       "      <td>business</td>\n",
       "    </tr>\n",
       "    <tr>\n",
       "      <th>506</th>\n",
       "      <td>UK economy ends year with spurt\\n\\nThe UK econ...</td>\n",
       "      <td>business</td>\n",
       "    </tr>\n",
       "    <tr>\n",
       "      <th>507</th>\n",
       "      <td>HealthSouth ex-boss goes on trial\\n\\nThe forme...</td>\n",
       "      <td>business</td>\n",
       "    </tr>\n",
       "    <tr>\n",
       "      <th>508</th>\n",
       "      <td>Euro firms miss out on optimism\\n\\nMore than 9...</td>\n",
       "      <td>business</td>\n",
       "    </tr>\n",
       "    <tr>\n",
       "      <th>509</th>\n",
       "      <td>Lacroix label bought by US firm\\n\\nLuxury good...</td>\n",
       "      <td>business</td>\n",
       "    </tr>\n",
       "  </tbody>\n",
       "</table>\n",
       "<p>510 rows × 2 columns</p>\n",
       "</div>"
      ],
      "text/plain": [
       "                                                  text    labels\n",
       "0    Ad sales boost Time Warner profit\\n\\nQuarterly...  business\n",
       "1    Dollar gains on Greenspan speech\\n\\nThe dollar...  business\n",
       "2    Yukos unit buyer faces loan claim\\n\\nThe owner...  business\n",
       "3    High fuel prices hit BA's profits\\n\\nBritish A...  business\n",
       "4    Pernod takeover talk lifts Domecq\\n\\nShares in...  business\n",
       "..                                                 ...       ...\n",
       "505  Trial begins of Spain's top banker\\n\\nThe tria...  business\n",
       "506  UK economy ends year with spurt\\n\\nThe UK econ...  business\n",
       "507  HealthSouth ex-boss goes on trial\\n\\nThe forme...  business\n",
       "508  Euro firms miss out on optimism\\n\\nMore than 9...  business\n",
       "509  Lacroix label bought by US firm\\n\\nLuxury good...  business\n",
       "\n",
       "[510 rows x 2 columns]"
      ]
     },
     "execution_count": 4,
     "metadata": {},
     "output_type": "execute_result"
    }
   ],
   "source": [
    "df = df[df.labels == 'business']\n",
    "df"
   ]
  },
  {
   "cell_type": "code",
   "execution_count": 5,
   "metadata": {},
   "outputs": [
    {
     "name": "stdout",
     "output_type": "stream",
     "text": [
      "Firms pump billions into pensions\n",
      "\n",
      "Employers have spent billions of\n",
      "pounds propping up their final salary pensions over the past year,\n",
      "research suggests.\n",
      "\n",
      "A survey of 280 schemes by Incomes Data Services'\n",
      "(IDS) said employer contributions had increased from £5.5bn to £8.2bn\n",
      "a year, a rise of 49.7%. Companies facing the biggest deficits had\n",
      "raised their pension contributions by 100% or more, IDS said.  Many\n",
      "firms are struggling to keep this type of scheme open, because of\n",
      "rising costs and increased liabilities.  A final salary scheme, also\n",
      "known as a defined benefit scheme, promises to pay a pension related\n",
      "to the salary the scheme member is earning when they retire.\n",
      "\n",
      "The\n",
      "rising cost of maintaining such schemes has led many employers to\n",
      "replace final salary schemes with money purchase, or defined\n",
      "contribution, schemes.  These are less risky for employers.  Under\n",
      "money purchase schemes, employees pay into a pension fund which is\n",
      "used to buy an annuity - a policy which pays out an income until death\n",
      "- on retirement.\n",
      "\n",
      "IDS said there were some schemes in good health.\n",
      "But, in many cases, firms had been forced to top up funds to tackle\n",
      "\"yawning deficits\". The level of contributions paid by employers has\n",
      "increased gradually since the late 1990s.  In 1998/99, for example,\n",
      "contributions rose by 4.7% and in 2002/03 by 8.6%. In contrast,\n",
      "between 1996 and 1998, some employers cut their contribution levels.\n",
      "Helen Sudell, editor of the IDS Pensions Service, said the rise in\n",
      "contributions was \"staggering\" and the highest ever recorded by IDS.\n",
      "\"We have warned before that the widespread closure of final salary\n",
      "schemes to new entrants is just the beginning of a much bigger\n",
      "movement away from paternalistic provision,\" said Ms Sudell.  \"With\n",
      "figures like this there can be little doubt that many employers will\n",
      "have to reduce future benefits at some point for those staff still in\n",
      "these schemes.\"\n"
     ]
    }
   ],
   "source": [
    "def wrap(x):\n",
    "    return textwrap.fill(\n",
    "                        x, \n",
    "                        replace_whitespace=False, \n",
    "                        fix_sentence_endings=True\n",
    "                        )\n",
    "\n",
    "article = df.text.iloc[np.random.choice(len(df))]\n",
    "print(wrap(article))"
   ]
  },
  {
   "attachments": {},
   "cell_type": "markdown",
   "metadata": {},
   "source": [
    "## Predictions"
   ]
  },
  {
   "cell_type": "code",
   "execution_count": 12,
   "metadata": {},
   "outputs": [
    {
     "name": "stdout",
     "output_type": "stream",
     "text": [
      " Firms pump billions into pensions over the past year, research\n",
      "suggests . Companies facing biggest deficits had raised their pension\n",
      "contributions by 100% or more . Many firms struggling to keep final\n",
      "salary schemes open because of rising costs and increased liabilities\n",
      ". Rising cost of maintaining such schemes has led many employers to\n",
      "replace them with money purchase schemes .\n"
     ]
    }
   ],
   "source": [
    "summary = summarization(\n",
    "                        article, \n",
    "                        #  max_length=100, \n",
    "                        #  min_length=30, \n",
    "                        #  do_sample=False\n",
    "                        )\n",
    "\n",
    "print(wrap(summary[0][\"summary_text\"]))"
   ]
  }
 ],
 "metadata": {
  "kernelspec": {
   "display_name": "torch113",
   "language": "python",
   "name": "python3"
  },
  "language_info": {
   "codemirror_mode": {
    "name": "ipython",
    "version": 3
   },
   "file_extension": ".py",
   "mimetype": "text/x-python",
   "name": "python",
   "nbconvert_exporter": "python",
   "pygments_lexer": "ipython3",
   "version": "3.8.16"
  },
  "orig_nbformat": 4,
  "vscode": {
   "interpreter": {
    "hash": "248c823f8d9cd642b9ec759df0147d9a3d39e8078d0a1d981d1fa6f47d9b28f2"
   }
  }
 },
 "nbformat": 4,
 "nbformat_minor": 2
}
